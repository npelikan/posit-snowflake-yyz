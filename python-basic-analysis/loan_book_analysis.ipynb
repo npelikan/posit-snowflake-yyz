{
 "cells": [
  {
   "cell_type": "markdown",
   "metadata": {},
   "source": [
    "# Snowflake + Posit Workbench\n",
    "\n",
    "## Connect to Snowflake"
   ]
  },
  {
   "cell_type": "code",
   "execution_count": 3,
   "metadata": {},
   "outputs": [
    {
     "name": "stderr",
     "output_type": "stream",
     "text": [
      "/Users/nickp/posit/posit-snowflake-yyz/.venv/lib/python3.11/site-packages/snowflake/connector/config_manager.py:344: UserWarning: Bad owner or permissions on /Users/nickp/.snowflake/connections.toml.\n",
      " * To change owner, run `chown $USER \"/Users/nickp/.snowflake/connections.toml\"`.\n",
      " * To restrict permissions, run `chmod 0600 \"/Users/nickp/.snowflake/connections.toml\"`.\n",
      "\n",
      "  warn(f\"Bad owner or permissions on {str(filep)}{chmod_message}\")\n"
     ]
    },
    {
     "name": "stdout",
     "output_type": "stream",
     "text": [
      "Initiating login request with your identity provider. A browser window should have opened for you to complete the login. If you can't see it, check existing browser windows, or your OS settings. Press CTRL+C to abort and try again...\n",
      "Going to open: https://posit.okta.com/app/snowflake/exkcvr7w79xv6SqLD697/sso/saml?SAMLRequest=pZNNc9owEIb%2Fikc927IN4UODyVAILTOkJcFpZ3oT9gIaZMnRyhj66ysb6KSH5NKbZvWu9tl9V6P7UyG9IxgUWiUkCkLigcp0LtQuIS%2Fp3B8QDy1XOZdaQULOgOR%2BPEJeyJJNKrtXz%2FBaAVrPPaSQtRcJqYximqNApngByGzG1pPHJYuDkJVGW51pSd6kfJzBEcFYR3hLyVE4vL21JaO0ruug7gTa7GgchiENh9SpGsmnm%2F7kenpHH9Gw2%2Bidwsnn2mTQtpUQayog3upK%2B1moy1A%2BAt1cRMi%2BpunKX31fp8Sb3OCnWmFVgFmDOYoMXp6XFyR0THkl9dZu%2FVKjsD66c80N%2BOUm83M4Bqh0vZX8AJkuysq6EoE70S3kVOqdcHNZzBJSHkQ%2B7XVOv%2FcbMd%2FpCOuHmc3EcaPtYN95Ap4%2BfPn51Dl347Dey0lGvB834%2BPG%2BAViBQvV2G1dKIy7fhT6cZRGA3Z3x6I4GPY7v4g3c3YLxW2beeugJQ%2F0wfIWjZcl%2FUtN4XTIjqZf94enY2%2F9upz1hn2KqGnjPbmsE2vLm%2FF%2FjWRE3z51XdNvzqfFbKWlyM6NwwW379sYBVEbEbm%2FbaUMCi7kJM8NIDo7pdT11AC3cF0ROr5U%2Ffc%2FjP8A&RelayState=64238&SigAlg=http%3A%2F%2Fwww.w3.org%2F2001%2F04%2Fxmldsig-more%23rsa-sha256&Signature=57WwddWs1QX5Hgg2GEfKu2Hh9nqXyoyyHRfsK9Exnb4MrfMj7lWD%2BYyaRS9q1at%2FfykqaVuvpj%2B9mrpALXaC92TFcykb1vJa4WJWMfwtQvdgioHf6kql%2FScBFKgxGrnYJfD6ARTW%2FDL5Xe0JLNb%2BqvVt88%2BghBlhYqaGNn2LnbNc%2F5KmEkKMY%2B3u2J9Xnc8gXnTbYjRpzqsKmmaADwO7lkPxHqFFZTNim9DFCAAFJ9zTJEwSPomfe0r3lF1JA5wfqpH4u4J9dJronpSiRU8svXb2tLykjnLd1AG84ua2Ozs%2F%2FV8qGR3QvRYek6h1gUf9wtfzfBRJoUo3EVjcTvsHJg%3D%3D to authenticate...\n",
      "Initiating login request with your identity provider. A browser window should have opened for you to complete the login. If you can't see it, check existing browser windows, or your OS settings. Press CTRL+C to abort and try again...\n",
      "Going to open: https://posit.okta.com/app/snowflake/exkcvr7w79xv6SqLD697/sso/saml?SAMLRequest=pZNNc9owEIb%2Fikc927IN4UODyVAILTOkJcFpZ3oT9gIaZMnRyhj66ysb6KSH5NKbZvWu9tl9V6P7UyG9IxgUWiUkCkLigcp0LtQuIS%2Fp3B8QDy1XOZdaQULOgOR%2BPEJeyJJNKrtXz%2FBaAVrPPaSQtRcJqYximqNApngByGzG1pPHJYuDkJVGW51pSd6kfJzBEcFYR3hLyVE4vL21JaO0ruug7gTa7GgchiENh9SpGsmnm%2F7kenpHH9Gw2%2Bidwsnn2mTQtpUQayog3upK%2B1moy1A%2BAt1cRMi%2BpunKX31fp8Sb3OCnWmFVgFmDOYoMXp6XFyR0THkl9dZu%2FVKjsD66c80N%2BOUm83M4Bqh0vZX8AJkuysq6EoE70S3kVOqdcHNZzBJSHkQ%2B7XVOv%2FcbMd%2FpCOuHmc3EcaPtYN95Ap4%2BfPn51Dl347Dey0lGvB834%2BPG%2BAViBQvV2G1dKIy7fhT6cZRGA3Z3x6I4GPY7v4g3c3YLxW2beeugJQ%2F0wfIWjZcl%2FUtN4XTIjqZf94enY2%2F9upz1hn2KqGnjPbmsE2vLm%2FF%2FjWRE3z51XdNvzqfFbKWlyM6NwwW379sYBVEbEbm%2FbaUMCi7kJM8NIDo7pdT11AC3cF0ROr5U%2Ffc%2FjP8A&RelayState=64238&SigAlg=http%3A%2F%2Fwww.w3.org%2F2001%2F04%2Fxmldsig-more%23rsa-sha256&Signature=57WwddWs1QX5Hgg2GEfKu2Hh9nqXyoyyHRfsK9Exnb4MrfMj7lWD%2BYyaRS9q1at%2FfykqaVuvpj%2B9mrpALXaC92TFcykb1vJa4WJWMfwtQvdgioHf6kql%2FScBFKgxGrnYJfD6ARTW%2FDL5Xe0JLNb%2BqvVt88%2BghBlhYqaGNn2LnbNc%2F5KmEkKMY%2B3u2J9Xnc8gXnTbYjRpzqsKmmaADwO7lkPxHqFFZTNim9DFCAAFJ9zTJEwSPomfe0r3lF1JA5wfqpH4u4J9dJronpSiRU8svXb2tLykjnLd1AG84ua2Ozs%2F%2FV8qGR3QvRYek6h1gUf9wtfzfBRJoUo3EVjcTvsHJg%3D%3D to authenticate...\n"
     ]
    }
   ],
   "source": [
    "import snowflake.connector\n",
    "import pandas as pd\n",
    "import plotly.express as px\n",
    "import nbformat\n",
    "\n",
    "con = snowflake.connector.connect(\n",
    "    connection_name=\"workbench\",\n",
    "    warehouse=\"DEFAULT_WH\", # NOTE: you may need to change this\n",
    "    database=\"LENDING_CLUB\",\n",
    "    schema=\"ML\",\n",
    ")"
   ]
  },
  {
   "cell_type": "markdown",
   "metadata": {},
   "source": [
    "## Grab Some Data"
   ]
  },
  {
   "cell_type": "code",
   "execution_count": 7,
   "metadata": {},
   "outputs": [
    {
     "name": "stderr",
     "output_type": "stream",
     "text": [
      "<positron-console-cell-7>:1: UserWarning:\n",
      "\n",
      "pandas only supports SQLAlchemy connectable (engine/connection) or database string URI or sqlite3 DBAPI2 connection. Other DBAPI2 objects are not tested. Please consider using SQLAlchemy.\n",
      "\n"
     ]
    }
   ],
   "source": [
    "df = pd.read_sql_query(\n",
    "    \"\"\"\n",
    "    SELECT \n",
    "        ADDR_STATE,\n",
    "        SUM(LOAN_AMNT) AS TOTAL_LOANS\n",
    "    FROM \n",
    "        LOAN_DATA\n",
    "    GROUP BY 1\n",
    "    ORDER BY 2\n",
    "    ;\n",
    "    \"\"\",\n",
    "    con\n",
    ")"
   ]
  },
  {
   "cell_type": "markdown",
   "metadata": {},
   "source": [
    "## Plot It Out!"
   ]
  },
  {
   "cell_type": "code",
   "execution_count": 9,
   "metadata": {},
   "outputs": [
    {
     "data": {
      "application/vnd.plotly.v1+json": {
       "config": {
        "plotlyServerURL": "https://plot.ly"
       },
       "data": [
        {
         "alignmentgroup": "True",
         "hovertemplate": "=%{x}<br>Total Loan Book ($)=%{y}<extra></extra>",
         "legendgroup": "",
         "marker": {
          "color": "#636efa",
          "pattern": {
           "shape": ""
          }
         },
         "name": "",
         "offsetgroup": "",
         "orientation": "v",
         "showlegend": false,
         "textposition": "auto",
         "type": "bar",
         "x": [
          "IA",
          "ND",
          "ID",
          "SD",
          "VT",
          "ME",
          "WY",
          "DC",
          "MT",
          "AK",
          "DE",
          "NE",
          "WV",
          "RI",
          "NH",
          "HI",
          "NM",
          "MS",
          "UT",
          "AR",
          "KS",
          "OK",
          "KY",
          "OR",
          "LA",
          "AL",
          "SC",
          "WI",
          "NV",
          "TN",
          "MO",
          "CT",
          "IN",
          "MN",
          "WA",
          "CO",
          "AZ",
          "MA",
          "MI",
          "MD",
          "NC",
          "VA",
          "OH",
          "PA",
          "GA",
          "NJ",
          "IL",
          "FL",
          "NY",
          "TX",
          "CA",
          null
         ],
         "xaxis": "x",
         "y": [
          114075,
          55622875,
          62088425,
          64670375,
          68206775,
          73320525,
          74153325,
          84707250,
          88170825,
          90419900,
          96450975,
          110941450,
          125954800,
          142960100,
          166469500,
          169562100,
          178280525,
          186427150,
          227578525,
          240650500,
          283877825,
          310665375,
          313557625,
          379466875,
          382046275,
          400699250,
          418481900,
          431766050,
          470165300,
          522342125,
          524098650,
          547556950,
          550776675,
          577447675,
          721608300,
          727724225,
          780966125,
          811746725,
          841655700,
          856883500,
          930436100,
          1013015875,
          1077142925,
          1131987950,
          1136790825,
          1316207975,
          1410451950,
          2333034500,
          2767160700,
          2931133525,
          4808480100,
          null
         ],
         "yaxis": "y"
        }
       ],
       "layout": {
        "barmode": "group",
        "legend": {
         "tracegroupgap": 0
        },
        "margin": {
         "t": 60
        },
        "template": {
         "data": {
          "bar": [
           {
            "error_x": {
             "color": "#2a3f5f"
            },
            "error_y": {
             "color": "#2a3f5f"
            },
            "marker": {
             "line": {
              "color": "#E5ECF6",
              "width": 0.5
             },
             "pattern": {
              "fillmode": "overlay",
              "size": 10,
              "solidity": 0.2
             }
            },
            "type": "bar"
           }
          ],
          "barpolar": [
           {
            "marker": {
             "line": {
              "color": "#E5ECF6",
              "width": 0.5
             },
             "pattern": {
              "fillmode": "overlay",
              "size": 10,
              "solidity": 0.2
             }
            },
            "type": "barpolar"
           }
          ],
          "carpet": [
           {
            "aaxis": {
             "endlinecolor": "#2a3f5f",
             "gridcolor": "white",
             "linecolor": "white",
             "minorgridcolor": "white",
             "startlinecolor": "#2a3f5f"
            },
            "baxis": {
             "endlinecolor": "#2a3f5f",
             "gridcolor": "white",
             "linecolor": "white",
             "minorgridcolor": "white",
             "startlinecolor": "#2a3f5f"
            },
            "type": "carpet"
           }
          ],
          "choropleth": [
           {
            "colorbar": {
             "outlinewidth": 0,
             "ticks": ""
            },
            "type": "choropleth"
           }
          ],
          "contour": [
           {
            "colorbar": {
             "outlinewidth": 0,
             "ticks": ""
            },
            "colorscale": [
             [
              0,
              "#0d0887"
             ],
             [
              0.1111111111111111,
              "#46039f"
             ],
             [
              0.2222222222222222,
              "#7201a8"
             ],
             [
              0.3333333333333333,
              "#9c179e"
             ],
             [
              0.4444444444444444,
              "#bd3786"
             ],
             [
              0.5555555555555556,
              "#d8576b"
             ],
             [
              0.6666666666666666,
              "#ed7953"
             ],
             [
              0.7777777777777778,
              "#fb9f3a"
             ],
             [
              0.8888888888888888,
              "#fdca26"
             ],
             [
              1,
              "#f0f921"
             ]
            ],
            "type": "contour"
           }
          ],
          "contourcarpet": [
           {
            "colorbar": {
             "outlinewidth": 0,
             "ticks": ""
            },
            "type": "contourcarpet"
           }
          ],
          "heatmap": [
           {
            "colorbar": {
             "outlinewidth": 0,
             "ticks": ""
            },
            "colorscale": [
             [
              0,
              "#0d0887"
             ],
             [
              0.1111111111111111,
              "#46039f"
             ],
             [
              0.2222222222222222,
              "#7201a8"
             ],
             [
              0.3333333333333333,
              "#9c179e"
             ],
             [
              0.4444444444444444,
              "#bd3786"
             ],
             [
              0.5555555555555556,
              "#d8576b"
             ],
             [
              0.6666666666666666,
              "#ed7953"
             ],
             [
              0.7777777777777778,
              "#fb9f3a"
             ],
             [
              0.8888888888888888,
              "#fdca26"
             ],
             [
              1,
              "#f0f921"
             ]
            ],
            "type": "heatmap"
           }
          ],
          "heatmapgl": [
           {
            "colorbar": {
             "outlinewidth": 0,
             "ticks": ""
            },
            "colorscale": [
             [
              0,
              "#0d0887"
             ],
             [
              0.1111111111111111,
              "#46039f"
             ],
             [
              0.2222222222222222,
              "#7201a8"
             ],
             [
              0.3333333333333333,
              "#9c179e"
             ],
             [
              0.4444444444444444,
              "#bd3786"
             ],
             [
              0.5555555555555556,
              "#d8576b"
             ],
             [
              0.6666666666666666,
              "#ed7953"
             ],
             [
              0.7777777777777778,
              "#fb9f3a"
             ],
             [
              0.8888888888888888,
              "#fdca26"
             ],
             [
              1,
              "#f0f921"
             ]
            ],
            "type": "heatmapgl"
           }
          ],
          "histogram": [
           {
            "marker": {
             "pattern": {
              "fillmode": "overlay",
              "size": 10,
              "solidity": 0.2
             }
            },
            "type": "histogram"
           }
          ],
          "histogram2d": [
           {
            "colorbar": {
             "outlinewidth": 0,
             "ticks": ""
            },
            "colorscale": [
             [
              0,
              "#0d0887"
             ],
             [
              0.1111111111111111,
              "#46039f"
             ],
             [
              0.2222222222222222,
              "#7201a8"
             ],
             [
              0.3333333333333333,
              "#9c179e"
             ],
             [
              0.4444444444444444,
              "#bd3786"
             ],
             [
              0.5555555555555556,
              "#d8576b"
             ],
             [
              0.6666666666666666,
              "#ed7953"
             ],
             [
              0.7777777777777778,
              "#fb9f3a"
             ],
             [
              0.8888888888888888,
              "#fdca26"
             ],
             [
              1,
              "#f0f921"
             ]
            ],
            "type": "histogram2d"
           }
          ],
          "histogram2dcontour": [
           {
            "colorbar": {
             "outlinewidth": 0,
             "ticks": ""
            },
            "colorscale": [
             [
              0,
              "#0d0887"
             ],
             [
              0.1111111111111111,
              "#46039f"
             ],
             [
              0.2222222222222222,
              "#7201a8"
             ],
             [
              0.3333333333333333,
              "#9c179e"
             ],
             [
              0.4444444444444444,
              "#bd3786"
             ],
             [
              0.5555555555555556,
              "#d8576b"
             ],
             [
              0.6666666666666666,
              "#ed7953"
             ],
             [
              0.7777777777777778,
              "#fb9f3a"
             ],
             [
              0.8888888888888888,
              "#fdca26"
             ],
             [
              1,
              "#f0f921"
             ]
            ],
            "type": "histogram2dcontour"
           }
          ],
          "mesh3d": [
           {
            "colorbar": {
             "outlinewidth": 0,
             "ticks": ""
            },
            "type": "mesh3d"
           }
          ],
          "parcoords": [
           {
            "line": {
             "colorbar": {
              "outlinewidth": 0,
              "ticks": ""
             }
            },
            "type": "parcoords"
           }
          ],
          "pie": [
           {
            "automargin": true,
            "type": "pie"
           }
          ],
          "scatter": [
           {
            "fillpattern": {
             "fillmode": "overlay",
             "size": 10,
             "solidity": 0.2
            },
            "type": "scatter"
           }
          ],
          "scatter3d": [
           {
            "line": {
             "colorbar": {
              "outlinewidth": 0,
              "ticks": ""
             }
            },
            "marker": {
             "colorbar": {
              "outlinewidth": 0,
              "ticks": ""
             }
            },
            "type": "scatter3d"
           }
          ],
          "scattercarpet": [
           {
            "marker": {
             "colorbar": {
              "outlinewidth": 0,
              "ticks": ""
             }
            },
            "type": "scattercarpet"
           }
          ],
          "scattergeo": [
           {
            "marker": {
             "colorbar": {
              "outlinewidth": 0,
              "ticks": ""
             }
            },
            "type": "scattergeo"
           }
          ],
          "scattergl": [
           {
            "marker": {
             "colorbar": {
              "outlinewidth": 0,
              "ticks": ""
             }
            },
            "type": "scattergl"
           }
          ],
          "scattermapbox": [
           {
            "marker": {
             "colorbar": {
              "outlinewidth": 0,
              "ticks": ""
             }
            },
            "type": "scattermapbox"
           }
          ],
          "scatterpolar": [
           {
            "marker": {
             "colorbar": {
              "outlinewidth": 0,
              "ticks": ""
             }
            },
            "type": "scatterpolar"
           }
          ],
          "scatterpolargl": [
           {
            "marker": {
             "colorbar": {
              "outlinewidth": 0,
              "ticks": ""
             }
            },
            "type": "scatterpolargl"
           }
          ],
          "scatterternary": [
           {
            "marker": {
             "colorbar": {
              "outlinewidth": 0,
              "ticks": ""
             }
            },
            "type": "scatterternary"
           }
          ],
          "surface": [
           {
            "colorbar": {
             "outlinewidth": 0,
             "ticks": ""
            },
            "colorscale": [
             [
              0,
              "#0d0887"
             ],
             [
              0.1111111111111111,
              "#46039f"
             ],
             [
              0.2222222222222222,
              "#7201a8"
             ],
             [
              0.3333333333333333,
              "#9c179e"
             ],
             [
              0.4444444444444444,
              "#bd3786"
             ],
             [
              0.5555555555555556,
              "#d8576b"
             ],
             [
              0.6666666666666666,
              "#ed7953"
             ],
             [
              0.7777777777777778,
              "#fb9f3a"
             ],
             [
              0.8888888888888888,
              "#fdca26"
             ],
             [
              1,
              "#f0f921"
             ]
            ],
            "type": "surface"
           }
          ],
          "table": [
           {
            "cells": {
             "fill": {
              "color": "#EBF0F8"
             },
             "line": {
              "color": "white"
             }
            },
            "header": {
             "fill": {
              "color": "#C8D4E3"
             },
             "line": {
              "color": "white"
             }
            },
            "type": "table"
           }
          ]
         },
         "layout": {
          "annotationdefaults": {
           "arrowcolor": "#2a3f5f",
           "arrowhead": 0,
           "arrowwidth": 1
          },
          "autotypenumbers": "strict",
          "coloraxis": {
           "colorbar": {
            "outlinewidth": 0,
            "ticks": ""
           }
          },
          "colorscale": {
           "diverging": [
            [
             0,
             "#8e0152"
            ],
            [
             0.1,
             "#c51b7d"
            ],
            [
             0.2,
             "#de77ae"
            ],
            [
             0.3,
             "#f1b6da"
            ],
            [
             0.4,
             "#fde0ef"
            ],
            [
             0.5,
             "#f7f7f7"
            ],
            [
             0.6,
             "#e6f5d0"
            ],
            [
             0.7,
             "#b8e186"
            ],
            [
             0.8,
             "#7fbc41"
            ],
            [
             0.9,
             "#4d9221"
            ],
            [
             1,
             "#276419"
            ]
           ],
           "sequential": [
            [
             0,
             "#0d0887"
            ],
            [
             0.1111111111111111,
             "#46039f"
            ],
            [
             0.2222222222222222,
             "#7201a8"
            ],
            [
             0.3333333333333333,
             "#9c179e"
            ],
            [
             0.4444444444444444,
             "#bd3786"
            ],
            [
             0.5555555555555556,
             "#d8576b"
            ],
            [
             0.6666666666666666,
             "#ed7953"
            ],
            [
             0.7777777777777778,
             "#fb9f3a"
            ],
            [
             0.8888888888888888,
             "#fdca26"
            ],
            [
             1,
             "#f0f921"
            ]
           ],
           "sequentialminus": [
            [
             0,
             "#0d0887"
            ],
            [
             0.1111111111111111,
             "#46039f"
            ],
            [
             0.2222222222222222,
             "#7201a8"
            ],
            [
             0.3333333333333333,
             "#9c179e"
            ],
            [
             0.4444444444444444,
             "#bd3786"
            ],
            [
             0.5555555555555556,
             "#d8576b"
            ],
            [
             0.6666666666666666,
             "#ed7953"
            ],
            [
             0.7777777777777778,
             "#fb9f3a"
            ],
            [
             0.8888888888888888,
             "#fdca26"
            ],
            [
             1,
             "#f0f921"
            ]
           ]
          },
          "colorway": [
           "#636efa",
           "#EF553B",
           "#00cc96",
           "#ab63fa",
           "#FFA15A",
           "#19d3f3",
           "#FF6692",
           "#B6E880",
           "#FF97FF",
           "#FECB52"
          ],
          "font": {
           "color": "#2a3f5f"
          },
          "geo": {
           "bgcolor": "white",
           "lakecolor": "white",
           "landcolor": "#E5ECF6",
           "showlakes": true,
           "showland": true,
           "subunitcolor": "white"
          },
          "hoverlabel": {
           "align": "left"
          },
          "hovermode": "closest",
          "mapbox": {
           "style": "light"
          },
          "paper_bgcolor": "white",
          "plot_bgcolor": "#E5ECF6",
          "polar": {
           "angularaxis": {
            "gridcolor": "white",
            "linecolor": "white",
            "ticks": ""
           },
           "bgcolor": "#E5ECF6",
           "radialaxis": {
            "gridcolor": "white",
            "linecolor": "white",
            "ticks": ""
           }
          },
          "scene": {
           "xaxis": {
            "backgroundcolor": "#E5ECF6",
            "gridcolor": "white",
            "gridwidth": 2,
            "linecolor": "white",
            "showbackground": true,
            "ticks": "",
            "zerolinecolor": "white"
           },
           "yaxis": {
            "backgroundcolor": "#E5ECF6",
            "gridcolor": "white",
            "gridwidth": 2,
            "linecolor": "white",
            "showbackground": true,
            "ticks": "",
            "zerolinecolor": "white"
           },
           "zaxis": {
            "backgroundcolor": "#E5ECF6",
            "gridcolor": "white",
            "gridwidth": 2,
            "linecolor": "white",
            "showbackground": true,
            "ticks": "",
            "zerolinecolor": "white"
           }
          },
          "shapedefaults": {
           "line": {
            "color": "#2a3f5f"
           }
          },
          "ternary": {
           "aaxis": {
            "gridcolor": "white",
            "linecolor": "white",
            "ticks": ""
           },
           "baxis": {
            "gridcolor": "white",
            "linecolor": "white",
            "ticks": ""
           },
           "bgcolor": "#E5ECF6",
           "caxis": {
            "gridcolor": "white",
            "linecolor": "white",
            "ticks": ""
           }
          },
          "title": {
           "x": 0.05
          },
          "xaxis": {
           "automargin": true,
           "gridcolor": "white",
           "linecolor": "white",
           "ticks": "",
           "title": {
            "standoff": 15
           },
           "zerolinecolor": "white",
           "zerolinewidth": 2
          },
          "yaxis": {
           "automargin": true,
           "gridcolor": "white",
           "linecolor": "white",
           "ticks": "",
           "title": {
            "standoff": 15
           },
           "zerolinecolor": "white",
           "zerolinewidth": 2
          }
         }
        },
        "xaxis": {
         "anchor": "y",
         "domain": [
          0,
          1
         ],
         "title": {
          "text": ""
         }
        },
        "yaxis": {
         "anchor": "x",
         "domain": [
          0,
          1
         ],
         "title": {
          "text": "Total Loan Book ($)"
         }
        }
       }
      }
     },
     "metadata": {},
     "output_type": "display_data"
    }
   ],
   "source": [
    "fig = px.bar(\n",
    "    data_frame=df,\n",
    "    x='ADDR_STATE',\n",
    "    y='TOTAL_LOANS',\n",
    "    barmode='group',\n",
    "    labels={\n",
    "        \"ADDR_STATE\": \"\",\n",
    "        \"TOTAL_LOANS\": \"Total Loan Book ($)\",\n",
    "    },\n",
    ")\n",
    "fig.show()"
   ]
  },
  {
   "cell_type": "code",
   "execution_count": null,
   "metadata": {},
   "outputs": [],
   "source": []
  }
 ],
 "metadata": {
  "kernelspec": {
   "display_name": ".venv",
   "language": "python",
   "name": "python3"
  },
  "language_info": {
   "codemirror_mode": {
    "name": "ipython",
    "version": 3
   },
   "file_extension": ".py",
   "mimetype": "text/x-python",
   "name": "python",
   "nbconvert_exporter": "python",
   "pygments_lexer": "ipython3",
   "version": "3.11.9"
  }
 },
 "nbformat": 4,
 "nbformat_minor": 2
}
